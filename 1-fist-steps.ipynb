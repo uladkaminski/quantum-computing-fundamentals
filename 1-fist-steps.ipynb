{
 "cells": [
  {
   "cell_type": "code",
   "execution_count": 1,
   "metadata": {},
   "outputs": [
    {
     "name": "stdout",
     "output_type": "stream",
     "text": [
      "Collecting qiskit\n",
      "  Using cached qiskit-0.46.0-py3-none-any.whl.metadata (12 kB)\n",
      "Collecting qiskit-terra==0.46.0 (from qiskit)\n",
      "  Using cached qiskit_terra-0.46.0-cp38-abi3-macosx_11_0_arm64.whl.metadata (12 kB)\n",
      "Collecting rustworkx>=0.13.0 (from qiskit-terra==0.46.0->qiskit)\n",
      "  Using cached rustworkx-0.14.0-cp311-cp311-macosx_11_0_arm64.whl.metadata (10.0 kB)\n",
      "Collecting numpy<2,>=1.17 (from qiskit-terra==0.46.0->qiskit)\n",
      "  Downloading numpy-1.26.4-cp311-cp311-macosx_11_0_arm64.whl.metadata (114 kB)\n",
      "\u001b[2K     \u001b[38;2;114;156;31m━━━━━━━━━━━━━━━━━━━━━━━━━━━━━━━━━━━━━━━\u001b[0m \u001b[32m114.8/114.8 kB\u001b[0m \u001b[31m4.2 MB/s\u001b[0m eta \u001b[36m0:00:00\u001b[0m\n",
      "\u001b[?25hCollecting ply>=3.10 (from qiskit-terra==0.46.0->qiskit)\n",
      "  Using cached ply-3.11-py2.py3-none-any.whl (49 kB)\n",
      "Requirement already satisfied: psutil>=5 in /Users/uladkaminski/Projects/qc/.conda/lib/python3.11/site-packages (from qiskit-terra==0.46.0->qiskit) (5.9.0)\n",
      "Collecting scipy>=1.5 (from qiskit-terra==0.46.0->qiskit)\n",
      "  Downloading scipy-1.12.0-cp311-cp311-macosx_12_0_arm64.whl.metadata (165 kB)\n",
      "\u001b[2K     \u001b[38;2;114;156;31m━━━━━━━━━━━━━━━━━━━━━━━━━━━━━━━━━━━━━━━\u001b[0m \u001b[32m165.4/165.4 kB\u001b[0m \u001b[31m8.0 MB/s\u001b[0m eta \u001b[36m0:00:00\u001b[0m\n",
      "\u001b[?25hCollecting sympy>=1.3 (from qiskit-terra==0.46.0->qiskit)\n",
      "  Using cached sympy-1.12-py3-none-any.whl (5.7 MB)\n",
      "Collecting dill>=0.3 (from qiskit-terra==0.46.0->qiskit)\n",
      "  Using cached dill-0.3.8-py3-none-any.whl.metadata (10 kB)\n",
      "Requirement already satisfied: python-dateutil>=2.8.0 in /Users/uladkaminski/Projects/qc/.conda/lib/python3.11/site-packages (from qiskit-terra==0.46.0->qiskit) (2.8.2)\n",
      "Collecting stevedore>=3.0.0 (from qiskit-terra==0.46.0->qiskit)\n",
      "  Using cached stevedore-5.1.0-py3-none-any.whl.metadata (2.2 kB)\n",
      "Collecting symengine>=0.11 (from qiskit-terra==0.46.0->qiskit)\n",
      "  Using cached symengine-0.11.0-cp311-cp311-macosx_11_0_arm64.whl.metadata (1.2 kB)\n",
      "Requirement already satisfied: six>=1.5 in /Users/uladkaminski/Projects/qc/.conda/lib/python3.11/site-packages (from python-dateutil>=2.8.0->qiskit-terra==0.46.0->qiskit) (1.16.0)\n",
      "Collecting pbr!=2.1.0,>=2.0.0 (from stevedore>=3.0.0->qiskit-terra==0.46.0->qiskit)\n",
      "  Using cached pbr-6.0.0-py2.py3-none-any.whl.metadata (1.3 kB)\n",
      "Collecting mpmath>=0.19 (from sympy>=1.3->qiskit-terra==0.46.0->qiskit)\n",
      "  Using cached mpmath-1.3.0-py3-none-any.whl (536 kB)\n",
      "Using cached qiskit-0.46.0-py3-none-any.whl (9.6 kB)\n",
      "Using cached qiskit_terra-0.46.0-cp38-abi3-macosx_11_0_arm64.whl (5.4 MB)\n",
      "Using cached dill-0.3.8-py3-none-any.whl (116 kB)\n",
      "Downloading numpy-1.26.4-cp311-cp311-macosx_11_0_arm64.whl (14.0 MB)\n",
      "\u001b[2K   \u001b[38;2;249;38;114m━━━━━━━━━━━━━━━━━━━━━━━━━━━━\u001b[0m\u001b[38;2;249;38;114m╸\u001b[0m\u001b[38;5;237m━━━━━━━━━━━\u001b[0m \u001b[32m10.1/14.0 MB\u001b[0m \u001b[31m1.2 MB/s\u001b[0m eta \u001b[36m0:00:04\u001b[0m"
     ]
    }
   ],
   "source": [
    "pip install qiskit"
   ]
  },
  {
   "cell_type": "code",
   "execution_count": 4,
   "metadata": {},
   "outputs": [],
   "source": [
    "from qiskit import *\n",
    "from qiskit.tools.visualization import plot_histogram\n",
    "%matplotlib inline"
   ]
  },
  {
   "cell_type": "code",
   "execution_count": 5,
   "metadata": {},
   "outputs": [
    {
     "data": {
      "text/plain": [
       "<qiskit.circuit.instructionset.InstructionSet at 0x1741348b0>"
      ]
     },
     "execution_count": 5,
     "metadata": {},
     "output_type": "execute_result"
    }
   ],
   "source": [
    "qr = QuantumRegister(1)\n",
    "cr = ClassicalRegister(1)\n",
    "circuit = QuantumCircuit(qr, cr)\n",
    "circuit.measure(qr, cr)"
   ]
  }
 ],
 "metadata": {
  "kernelspec": {
   "display_name": "Python 3",
   "language": "python",
   "name": "python3"
  },
  "language_info": {
   "codemirror_mode": {
    "name": "ipython",
    "version": 3
   },
   "file_extension": ".py",
   "mimetype": "text/x-python",
   "name": "python",
   "nbconvert_exporter": "python",
   "pygments_lexer": "ipython3",
   "version": "3.11.7"
  }
 },
 "nbformat": 4,
 "nbformat_minor": 2
}
