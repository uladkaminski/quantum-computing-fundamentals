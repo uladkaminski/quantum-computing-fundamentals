{
 "cells": [
  {
   "cell_type": "code",
   "execution_count": 5,
   "metadata": {},
   "outputs": [
    {
     "name": "stdout",
     "output_type": "stream",
     "text": [
      "Requirement already satisfied: qiskit in /Users/uladkaminski/Projects/qc/.conda/lib/python3.11/site-packages (0.46.0)\n",
      "Requirement already satisfied: qiskit-terra==0.46.0 in /Users/uladkaminski/Projects/qc/.conda/lib/python3.11/site-packages (from qiskit) (0.46.0)\n",
      "Requirement already satisfied: rustworkx>=0.13.0 in /Users/uladkaminski/Projects/qc/.conda/lib/python3.11/site-packages (from qiskit-terra==0.46.0->qiskit) (0.14.0)\n",
      "Requirement already satisfied: numpy<2,>=1.17 in /Users/uladkaminski/Projects/qc/.conda/lib/python3.11/site-packages (from qiskit-terra==0.46.0->qiskit) (1.26.4)\n",
      "Requirement already satisfied: ply>=3.10 in /Users/uladkaminski/Projects/qc/.conda/lib/python3.11/site-packages (from qiskit-terra==0.46.0->qiskit) (3.11)\n",
      "Requirement already satisfied: psutil>=5 in /Users/uladkaminski/Projects/qc/.conda/lib/python3.11/site-packages (from qiskit-terra==0.46.0->qiskit) (5.9.0)\n",
      "Requirement already satisfied: scipy>=1.5 in /Users/uladkaminski/Projects/qc/.conda/lib/python3.11/site-packages (from qiskit-terra==0.46.0->qiskit) (1.12.0)\n",
      "Requirement already satisfied: sympy>=1.3 in /Users/uladkaminski/Projects/qc/.conda/lib/python3.11/site-packages (from qiskit-terra==0.46.0->qiskit) (1.12)\n",
      "Requirement already satisfied: dill>=0.3 in /Users/uladkaminski/Projects/qc/.conda/lib/python3.11/site-packages (from qiskit-terra==0.46.0->qiskit) (0.3.8)\n",
      "Requirement already satisfied: python-dateutil>=2.8.0 in /Users/uladkaminski/Projects/qc/.conda/lib/python3.11/site-packages (from qiskit-terra==0.46.0->qiskit) (2.8.2)\n",
      "Requirement already satisfied: stevedore>=3.0.0 in /Users/uladkaminski/Projects/qc/.conda/lib/python3.11/site-packages (from qiskit-terra==0.46.0->qiskit) (5.1.0)\n",
      "Requirement already satisfied: symengine>=0.11 in /Users/uladkaminski/Projects/qc/.conda/lib/python3.11/site-packages (from qiskit-terra==0.46.0->qiskit) (0.11.0)\n",
      "Requirement already satisfied: six>=1.5 in /Users/uladkaminski/Projects/qc/.conda/lib/python3.11/site-packages (from python-dateutil>=2.8.0->qiskit-terra==0.46.0->qiskit) (1.16.0)\n",
      "Requirement already satisfied: pbr!=2.1.0,>=2.0.0 in /Users/uladkaminski/Projects/qc/.conda/lib/python3.11/site-packages (from stevedore>=3.0.0->qiskit-terra==0.46.0->qiskit) (6.0.0)\n",
      "Requirement already satisfied: mpmath>=0.19 in /Users/uladkaminski/Projects/qc/.conda/lib/python3.11/site-packages (from sympy>=1.3->qiskit-terra==0.46.0->qiskit) (1.3.0)\n",
      "Requirement already satisfied: matplotlib in /Users/uladkaminski/Projects/qc/.conda/lib/python3.11/site-packages (3.8.2)\n",
      "Requirement already satisfied: contourpy>=1.0.1 in /Users/uladkaminski/Projects/qc/.conda/lib/python3.11/site-packages (from matplotlib) (1.2.0)\n",
      "Requirement already satisfied: cycler>=0.10 in /Users/uladkaminski/Projects/qc/.conda/lib/python3.11/site-packages (from matplotlib) (0.12.1)\n",
      "Requirement already satisfied: fonttools>=4.22.0 in /Users/uladkaminski/Projects/qc/.conda/lib/python3.11/site-packages (from matplotlib) (4.48.1)\n",
      "Requirement already satisfied: kiwisolver>=1.3.1 in /Users/uladkaminski/Projects/qc/.conda/lib/python3.11/site-packages (from matplotlib) (1.4.5)\n",
      "Requirement already satisfied: numpy<2,>=1.21 in /Users/uladkaminski/Projects/qc/.conda/lib/python3.11/site-packages (from matplotlib) (1.26.4)\n",
      "Requirement already satisfied: packaging>=20.0 in /Users/uladkaminski/Projects/qc/.conda/lib/python3.11/site-packages (from matplotlib) (23.2)\n",
      "Requirement already satisfied: pillow>=8 in /Users/uladkaminski/Projects/qc/.conda/lib/python3.11/site-packages (from matplotlib) (10.2.0)\n",
      "Requirement already satisfied: pyparsing>=2.3.1 in /Users/uladkaminski/Projects/qc/.conda/lib/python3.11/site-packages (from matplotlib) (3.1.1)\n",
      "Requirement already satisfied: python-dateutil>=2.7 in /Users/uladkaminski/Projects/qc/.conda/lib/python3.11/site-packages (from matplotlib) (2.8.2)\n",
      "Requirement already satisfied: six>=1.5 in /Users/uladkaminski/Projects/qc/.conda/lib/python3.11/site-packages (from python-dateutil>=2.7->matplotlib) (1.16.0)\n",
      "Collecting qiskit_aer\n",
      "  Downloading qiskit_aer-0.13.3-cp311-cp311-macosx_11_0_arm64.whl.metadata (6.1 kB)\n",
      "Requirement already satisfied: qiskit>=0.45.0 in /Users/uladkaminski/Projects/qc/.conda/lib/python3.11/site-packages (from qiskit_aer) (0.46.0)\n",
      "Requirement already satisfied: numpy>=1.16.3 in /Users/uladkaminski/Projects/qc/.conda/lib/python3.11/site-packages (from qiskit_aer) (1.26.4)\n",
      "Requirement already satisfied: scipy>=1.0 in /Users/uladkaminski/Projects/qc/.conda/lib/python3.11/site-packages (from qiskit_aer) (1.12.0)\n",
      "Requirement already satisfied: psutil>=5 in /Users/uladkaminski/Projects/qc/.conda/lib/python3.11/site-packages (from qiskit_aer) (5.9.0)\n",
      "Requirement already satisfied: qiskit-terra==0.46.0 in /Users/uladkaminski/Projects/qc/.conda/lib/python3.11/site-packages (from qiskit>=0.45.0->qiskit_aer) (0.46.0)\n",
      "Requirement already satisfied: rustworkx>=0.13.0 in /Users/uladkaminski/Projects/qc/.conda/lib/python3.11/site-packages (from qiskit-terra==0.46.0->qiskit>=0.45.0->qiskit_aer) (0.14.0)\n",
      "Requirement already satisfied: ply>=3.10 in /Users/uladkaminski/Projects/qc/.conda/lib/python3.11/site-packages (from qiskit-terra==0.46.0->qiskit>=0.45.0->qiskit_aer) (3.11)\n",
      "Requirement already satisfied: sympy>=1.3 in /Users/uladkaminski/Projects/qc/.conda/lib/python3.11/site-packages (from qiskit-terra==0.46.0->qiskit>=0.45.0->qiskit_aer) (1.12)\n",
      "Requirement already satisfied: dill>=0.3 in /Users/uladkaminski/Projects/qc/.conda/lib/python3.11/site-packages (from qiskit-terra==0.46.0->qiskit>=0.45.0->qiskit_aer) (0.3.8)\n",
      "Requirement already satisfied: python-dateutil>=2.8.0 in /Users/uladkaminski/Projects/qc/.conda/lib/python3.11/site-packages (from qiskit-terra==0.46.0->qiskit>=0.45.0->qiskit_aer) (2.8.2)\n",
      "Requirement already satisfied: stevedore>=3.0.0 in /Users/uladkaminski/Projects/qc/.conda/lib/python3.11/site-packages (from qiskit-terra==0.46.0->qiskit>=0.45.0->qiskit_aer) (5.1.0)\n",
      "Requirement already satisfied: symengine>=0.11 in /Users/uladkaminski/Projects/qc/.conda/lib/python3.11/site-packages (from qiskit-terra==0.46.0->qiskit>=0.45.0->qiskit_aer) (0.11.0)\n",
      "Requirement already satisfied: six>=1.5 in /Users/uladkaminski/Projects/qc/.conda/lib/python3.11/site-packages (from python-dateutil>=2.8.0->qiskit-terra==0.46.0->qiskit>=0.45.0->qiskit_aer) (1.16.0)\n",
      "Requirement already satisfied: pbr!=2.1.0,>=2.0.0 in /Users/uladkaminski/Projects/qc/.conda/lib/python3.11/site-packages (from stevedore>=3.0.0->qiskit-terra==0.46.0->qiskit>=0.45.0->qiskit_aer) (6.0.0)\n",
      "Requirement already satisfied: mpmath>=0.19 in /Users/uladkaminski/Projects/qc/.conda/lib/python3.11/site-packages (from sympy>=1.3->qiskit-terra==0.46.0->qiskit>=0.45.0->qiskit_aer) (1.3.0)\n",
      "Downloading qiskit_aer-0.13.3-cp311-cp311-macosx_11_0_arm64.whl (2.0 MB)\n",
      "\u001b[2K   \u001b[38;2;114;156;31m━━━━━━━━━━━━━━━━━━━━━━━━━━━━━━━━━━━━━━━━\u001b[0m \u001b[32m2.0/2.0 MB\u001b[0m \u001b[31m10.9 MB/s\u001b[0m eta \u001b[36m0:00:00\u001b[0m31m11.3 MB/s\u001b[0m eta \u001b[36m0:00:01\u001b[0m\n",
      "\u001b[?25hInstalling collected packages: qiskit_aer\n",
      "Successfully installed qiskit_aer-0.13.3\n",
      "Note: you may need to restart the kernel to use updated packages.\n"
     ]
    }
   ],
   "source": [
    "pip install qiskit && pip install matplotlib && pip install qiskit_aer"
   ]
  },
  {
   "cell_type": "code",
   "execution_count": 8,
   "metadata": {},
   "outputs": [],
   "source": [
    "from qiskit import *\n",
    "from qiskit.tools.visualization import plot_histogram\n",
    "%matplotlib inline"
   ]
  },
  {
   "cell_type": "code",
   "execution_count": 9,
   "metadata": {},
   "outputs": [
    {
     "data": {
      "text/plain": [
       "<qiskit.circuit.instructionset.InstructionSet at 0x177c81d20>"
      ]
     },
     "execution_count": 9,
     "metadata": {},
     "output_type": "execute_result"
    }
   ],
   "source": [
    "qr = QuantumRegister(1)\n",
    "cr = ClassicalRegister(1)\n",
    "circuit = QuantumCircuit(qr, cr)\n",
    "circuit.measure(qr, cr)"
   ]
  },
  {
   "cell_type": "code",
   "execution_count": 10,
   "metadata": {},
   "outputs": [
    {
     "name": "stderr",
     "output_type": "stream",
     "text": [
      "/var/folders/8s/0mgsdm81367b1mr6dd9yxj6m0000gn/T/ipykernel_54661/4193056651.py:1: DeprecationWarning: The 'qiskit.Aer' entry point is deprecated and will be removed in Qiskit 1.0. You should use 'qiskit_aer.Aer' directly instead.\n",
      "  simulator = Aer.get_backend('qasm_simulator')\n",
      "/var/folders/8s/0mgsdm81367b1mr6dd9yxj6m0000gn/T/ipykernel_54661/4193056651.py:2: DeprecationWarning: The function ``qiskit.execute_function.execute()`` is deprecated as of qiskit 0.46.0. It will be removed in the Qiskit 1.0 release. This function combines ``transpile`` and ``backend.run``, which is covered by ``Sampler`` :mod:`~qiskit.primitives`. Alternatively, you can also run :func:`.transpile` followed by ``backend.run()``.\n",
      "  result = execute(circuit, backend = simulator, shots = 1024).result()\n"
     ]
    },
    {
     "data": {
      "image/png": "[encoded data removed]",
      "text/plain": [
       "<Figure size 700x500 with 1 Axes>"
      ]
     },
     "execution_count": 10,
     "metadata": {},
     "output_type": "execute_result"
    }
   ],
   "source": [
    "simulator = Aer.get_backend('qasm_simulator')\n",
    "result = execute(circuit, backend = simulator, shots = 1024).result()\n",
    "plot_histogram(result.get_counts())"
   ]
  }
 ],
 "metadata": {
  "kernelspec": {
   "display_name": "Python 3",
   "language": "python",
   "name": "python3"
  },
  "language_info": {
   "codemirror_mode": {
    "name": "ipython",
    "version": 3
   },
   "file_extension": ".py",
   "mimetype": "text/x-python",
   "name": "python",
   "nbconvert_exporter": "python",
   "pygments_lexer": "ipython3",
   "version": "3.11.7"
  }
 },
 "nbformat": 4,
 "nbformat_minor": 2
}
