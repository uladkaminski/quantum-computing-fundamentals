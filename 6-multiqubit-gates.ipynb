{
 "cells": [
  {
   "cell_type": "markdown",
   "metadata": {},
   "source": [
    "### CNOT Gate\n"
   ]
  },
  {
   "cell_type": "code",
   "execution_count": 1,
   "metadata": {},
   "outputs": [],
   "source": [
    "from qiskit import *\n",
    "from qiskit.tools.visualization import plot_bloch_multivector\n",
    "from math import pi\n",
    "%matplotlib inline"
   ]
  },
  {
   "cell_type": "code",
   "execution_count": null,
   "metadata": {},
   "outputs": [],
   "source": [
    "circuit = QuantumCircuit(3)\n",
    "\n",
    "circuit.x(0)\n",
    "circuit.cnot(0, 1)\n",
    "# cx is the same as cnot\n",
    "circuit.cx(1, 2)\n",
    "\n",
    "circuit.draw(output='mpl')"
   ]
  },
  {
   "cell_type": "code",
   "execution_count": null,
   "metadata": {},
   "outputs": [],
   "source": [
    "backend = Aer.get_backend(\"statevector_simulator\")\n",
    "statevector = execute(circuit, backend=backend).result().get_statevector()\n",
    "plot_bloch_multivector(statevector)"
   ]
  },
  {
   "cell_type": "markdown",
   "metadata": {},
   "source": [
    "### CCNOT Gate (Toffoli gate)\n"
   ]
  },
  {
   "cell_type": "code",
   "execution_count": null,
   "metadata": {},
   "outputs": [],
   "source": [
    "circuit = QuantumCircuit(3)\n",
    "circuit.y([0, 1])\n",
    "circuit.rx(pi/3, 2)\n",
    "# circuit.ccx(0,1,2)\n",
    "# or\n",
    "# circuit.toffoli(0,1,2)\n",
    "\n",
    "circuit.draw(output='mpl')"
   ]
  },
  {
   "cell_type": "code",
   "execution_count": null,
   "metadata": {},
   "outputs": [],
   "source": [
    "backend = Aer.get_backend(\"statevector_simulator\")\n",
    "statevector = execute(circuit, backend=backend).result().get_statevector()\n",
    "plot_bloch_multivector(statevector)"
   ]
  },
  {
   "cell_type": "markdown",
   "metadata": {},
   "source": [
    "### Swap and Fredkin (CSWAP) Gates\n"
   ]
  },
  {
   "cell_type": "code",
   "execution_count": null,
   "metadata": {},
   "outputs": [],
   "source": [
    "circuit = QuantumCircuit(3)\n",
    "\n",
    "circuit.h(1)\n",
    "circuit.rx(-pi/4, 2)\n",
    "\n",
    "# circuit.swap(1,2)\n",
    "\n",
    "circuit.x(0)\n",
    "circuit.fredkin(0, 1, 2)\n",
    "# or cwap(0, 1, 2)\n",
    "\n",
    "circuit.draw(output='mpl')"
   ]
  },
  {
   "cell_type": "code",
   "execution_count": null,
   "metadata": {},
   "outputs": [],
   "source": [
    "backend = Aer.get_backend(\"statevector_simulator\")\n",
    "statevector = execute(circuit, backend=backend).result().get_statevector()\n",
    "plot_bloch_multivector(statevector)"
   ]
  },
  {
   "cell_type": "markdown",
   "metadata": {},
   "source": [
    "### Challenge\n",
    "\n",
    "Represent logic XOR and AND operation.\n"
   ]
  },
  {
   "cell_type": "code",
   "execution_count": null,
   "metadata": {},
   "outputs": [],
   "source": [
    "circuit = QuantumCircuit(4, 2)\n",
    "\n",
    "circuit.x(1)\n",
    "circuit.x(0)\n",
    "circuit.barrier()\n",
    "\n",
    "circuit.cx(0, 2)\n",
    "circuit.cx(1, 2)\n",
    "circuit.ccx(0, 1, 3)\n",
    "\n",
    "circuit.barrier()\n",
    "circuit.measure(2, 0)  # measure XOR\n",
    "circuit.measure(3, 1)  # measure AND\n",
    "\n",
    "circuit.draw(output='mpl')"
   ]
  }
 ],
 "metadata": {
  "kernelspec": {
   "display_name": "Python 3",
   "language": "python",
   "name": "python3"
  },
  "language_info": {
   "codemirror_mode": {
    "name": "ipython",
    "version": 3
   },
   "file_extension": ".py",
   "mimetype": "text/x-python",
   "name": "python",
   "nbconvert_exporter": "python",
   "pygments_lexer": "ipython3",
   "version": "3.11.7"
  }
 },
 "nbformat": 4,
 "nbformat_minor": 2
}
