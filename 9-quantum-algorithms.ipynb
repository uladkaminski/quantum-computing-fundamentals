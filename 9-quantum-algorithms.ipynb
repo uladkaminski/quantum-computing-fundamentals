{
 "cells": [
  {
   "cell_type": "code",
   "execution_count": 1,
   "metadata": {},
   "outputs": [],
   "source": [
    "from qiskit import *\n",
    "from qiskit.tools.visualization import plot_histogram\n",
    "%matplotlib inline"
   ]
  },
  {
   "cell_type": "markdown",
   "metadata": {},
   "source": [
    "### Superdense coding\n",
    "\n",
    "Trasmit the 2 bits by sending just one qubit to another. Both qubits are entangled"
   ]
  },
  {
   "cell_type": "code",
   "execution_count": null,
   "metadata": {},
   "outputs": [],
   "source": [
    "circuit = QuantumCircuit(2)\n",
    "\n",
    "# Prepare the Bell state and distribute qubits\n",
    "circuit.h(0)\n",
    "circuit.cx(0, 1)\n",
    "\n",
    "circuit.barrier()\n",
    "\n",
    "\n",
    "# Olivia encodes her message and transmits her qubits to Barron\n",
    "match message := '00':\n",
    "    # apply identity operator\n",
    "    case '00':\n",
    "        circuit.id(0)\n",
    "    case '01':\n",
    "        circuit.z(0)\n",
    "    case '10':\n",
    "        circuit.x(0)\n",
    "    case '11':\n",
    "        circuit.z(0)\n",
    "        circuit.x(0)\n",
    "\n",
    "circuit.barrier()"
   ]
  },
  {
   "cell_type": "markdown",
   "metadata": {},
   "source": [
    "Barron decodes the message by entangling them"
   ]
  },
  {
   "cell_type": "code",
   "execution_count": null,
   "metadata": {},
   "outputs": [],
   "source": [
    "circuit.cx(0, 1)\n",
    "circuit.h(0)"
   ]
  },
  {
   "cell_type": "markdown",
   "metadata": {},
   "source": [
    "Measuring the qubits to read Olivia's message"
   ]
  },
  {
   "cell_type": "code",
   "execution_count": null,
   "metadata": {},
   "outputs": [],
   "source": [
    "circuit.measure_all()\n",
    "circuit.draw(output='mpl')"
   ]
  },
  {
   "cell_type": "code",
   "execution_count": null,
   "metadata": {},
   "outputs": [],
   "source": [
    "simulator = Aer.get_backend('qasm_simulator')\n",
    "result = execute(circuit, backend=simulator).result()\n",
    "plot_histogram(result.get_counts())"
   ]
  },
  {
   "cell_type": "markdown",
   "metadata": {},
   "source": [
    "### Quantum teleportation\n",
    "\n",
    "Requires source qubit and 2 entangled qubits for transportation"
   ]
  },
  {
   "cell_type": "code",
   "execution_count": 6,
   "metadata": {},
   "outputs": [],
   "source": [
    "from qiskit import *\n",
    "from qiskit.tools.visualization import plot_bloch_multivector, plot_histogram\n",
    "from math import pi\n",
    "%matplotlib inline"
   ]
  },
  {
   "cell_type": "code",
   "execution_count": null,
   "metadata": {},
   "outputs": [],
   "source": [
    "source = QuantumRegister(1, name='sourse')\n",
    "q1 = QuantumRegister(1, name='q1')\n",
    "destination = QuantumRegister(1, name='destination')\n",
    "\n",
    "crz = ClassicalRegister(1, name=\"crz\")\n",
    "crx = ClassicalRegister(1, name=\"crx\")\n",
    "\n",
    "circuit = QuantumCircuit(source, q1, destination, crz, crx)\n",
    "\n",
    "# initialize source qubit state\n",
    "circuit.x(0)\n",
    "circuit.barrier()\n",
    "\n",
    "# create State Bell pair\n",
    "circuit.h(q1)\n",
    "circuit.cx(q1, destination)\n",
    "\n",
    "# measure the state\n",
    "circuit.cx(source, q1)\n",
    "circuit.h(source)\n",
    "circuit.barrier()\n",
    "circuit.measure(source, crz)\n",
    "circuit.measure(q1, crx)\n",
    "circuit.barrier()\n",
    "\n",
    "# transform destination the qubit based on the measured values\n",
    "circuit.x(destination).c_if(crx, 1)\n",
    "circuit.z(destination).c_if(crz, 1)\n",
    "\n",
    "circuit.draw(output='mpl')"
   ]
  },
  {
   "cell_type": "code",
   "execution_count": null,
   "metadata": {},
   "outputs": [],
   "source": [
    "backend = Aer.get_backend('statevector_simulator')\n",
    "statevector = execute(circuit, backend=backend).result().get_statevector()\n",
    "plot_bloch_multivector(statevector)"
   ]
  },
  {
   "cell_type": "code",
   "execution_count": null,
   "metadata": {},
   "outputs": [],
   "source": [
    "backend = Aer.get_backend('qasm_simulator')\n",
    "result = execute(circuit, backend = backend).result()\n",
    "plot_histogram(result.get_counts())"
   ]
  },
  {
   "cell_type": "markdown",
   "metadata": {},
   "source": [
    "Due to Deferred Measurement Principle we should not apply any operations after any measurements. So here is the deferred measurement approach"
   ]
  },
  {
   "cell_type": "code",
   "execution_count": null,
   "metadata": {},
   "outputs": [],
   "source": [
    "circuit = QuantumCircuit(3, 1)\n",
    "\n",
    "# Initialize source qubit\n",
    "circuit.x(0)\n",
    "circuit.barrier()\n",
    "\n",
    "# Bell State pair\n",
    "circuit.h(1)\n",
    "circuit.cx(1, 2)\n",
    "circuit.barrier()\n",
    "\n",
    "# Bell State measurements\n",
    "circuit.cx(0, 1)\n",
    "circuit.h(0)\n",
    "circuit.barrier()\n",
    "\n",
    "# Conditional operations on destination qubit\n",
    "circuit.cx(1,2)\n",
    "circuit.cz(0,2)\n",
    "circuit.barrier()\n",
    "\n",
    "circuit.measure(2, 0)\n",
    "circuit.draw(output='mpl')"
   ]
  },
  {
   "cell_type": "code",
   "execution_count": null,
   "metadata": {},
   "outputs": [],
   "source": [
    "result = execute(circuit, backend=Aer.get_backend('qasm_simulator')).result()\n",
    "plot_histogram(result.get_counts())"
   ]
  }
 ],
 "metadata": {
  "kernelspec": {
   "display_name": "Python 3",
   "language": "python",
   "name": "python3"
  },
  "language_info": {
   "codemirror_mode": {
    "name": "ipython",
    "version": 3
   },
   "file_extension": ".py",
   "mimetype": "text/x-python",
   "name": "python",
   "nbconvert_exporter": "python",
   "pygments_lexer": "ipython3",
   "version": "3.12.3"
  }
 },
 "nbformat": 4,
 "nbformat_minor": 2
}
